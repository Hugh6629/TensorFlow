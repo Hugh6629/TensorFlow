{
    "cells": [
        {
            "metadata": {},
            "cell_type": "code",
            "source": "# 1st Jupyter notebook\nimport types\nimport pandas as pd\nfrom botocore.client import Config\nimport ibm_boto3\n\ndef __iter__(self): return 0\n\n# @hidden_cell\n# The following code accesses a file in your IBM Cloud Object Storage. It includes your credentials.\n# You might want to remove those credentials before you share the notebook.\nclient_0dd8265d452f4a08bb5525b26ee67ebb = ibm_boto3.client(service_name='s3',\n    ibm_api_key_id='D7rcBktgrCcnrTVcEpOYA08cl3PkS4IWnqk1VG1au1KY',\n    ibm_auth_endpoint=\"https://iam.cloud.ibm.com/oidc/token\",\n    config=Config(signature_version='oauth'),\n    endpoint_url='https://s3.eu-geo.objectstorage.service.networklayer.com')\n\nbody = client_0dd8265d452f4a08bb5525b26ee67ebb.get_object(Bucket='hughx27sjupyternotebook-donotdelete-pr-adsv42pbdwijs0',Key='Chicago_Crime_Data-v2.csv')['Body']\n# add missing __iter__ method, so pandas accepts body as file-like object\nif not hasattr(body, \"__iter__\"): body.__iter__ = types.MethodType( __iter__, body )\n\ndf_data_1 = pd.read_csv(body)\ndf_data_1.head()\n",
            "execution_count": 1,
            "outputs": [
                {
                    "output_type": "execute_result",
                    "execution_count": 1,
                    "data": {
                        "text/plain": "         ID CASE_NUMBER                    DATE                     BLOCK  \\\n0   3512276    HK587712  08/28/2004 05:50:56 PM        047XX S KEDZIE AVE   \n1   3406613    HK456306  06/26/2004 12:40:00 PM  009XX N CENTRAL PARK AVE   \n2   8002131    HT233595  04/04/2011 05:45:00 AM        043XX S WABASH AVE   \n3   7903289    HT133522  12/30/2010 04:30:00 PM      083XX S KINGSTON AVE   \n4  10402076    HZ138551  02/02/2016 07:30:00 PM           033XX W 66TH ST   \n\n  IUCR PRIMARY_TYPE                    DESCRIPTION  \\\n0  890        THEFT                  FROM BUILDING   \n1  820        THEFT                 $500 AND UNDER   \n2  820        THEFT                 $500 AND UNDER   \n3  840        THEFT  FINANCIAL ID THEFT: OVER $300   \n4  820        THEFT                 $500 AND UNDER   \n\n           LOCATION_DESCRIPTION  ARREST  DOMESTIC  ...  WARD  \\\n0            SMALL RETAIL STORE   False     False  ...  14.0   \n1                         OTHER   False     False  ...  27.0   \n2  NURSING HOME/RETIREMENT HOME   False     False  ...   3.0   \n3                     RESIDENCE   False     False  ...   7.0   \n4                         ALLEY   False     False  ...  15.0   \n\n   COMMUNITY_AREA_NUMBER  FBICODE  X_COORDINATE Y_COORDINATE  YEAR  \\\n0                   58.0        6     1155838.0    1873050.0  2004   \n1                   23.0        6     1152206.0    1906127.0  2004   \n2                   38.0        6     1177436.0    1876313.0  2011   \n3                   46.0        6     1194622.0    1850125.0  2010   \n4                   66.0        6     1155240.0    1860661.0  2016   \n\n                UPDATEDON   LATITUDE  LONGITUDE                       LOCATION  \n0  02/10/2018 03:50:01 PM  41.807441 -87.703956    (41.8074405, -87.703955849)  \n1  02/28/2018 03:56:25 PM  41.898280 -87.716406  (41.898279962, -87.716405505)  \n2  02/10/2018 03:50:01 PM  41.815933 -87.624642  (41.815933131, -87.624642127)  \n3  02/10/2018 03:50:01 PM  41.743665 -87.562463  (41.743665322, -87.562462756)  \n4  02/10/2018 03:50:01 PM  41.773455 -87.706480  (41.773455295, -87.706480471)  \n\n[5 rows x 22 columns]",
                        "text/html": "<div>\n<style scoped>\n    .dataframe tbody tr th:only-of-type {\n        vertical-align: middle;\n    }\n\n    .dataframe tbody tr th {\n        vertical-align: top;\n    }\n\n    .dataframe thead th {\n        text-align: right;\n    }\n</style>\n<table border=\"1\" class=\"dataframe\">\n  <thead>\n    <tr style=\"text-align: right;\">\n      <th></th>\n      <th>ID</th>\n      <th>CASE_NUMBER</th>\n      <th>DATE</th>\n      <th>BLOCK</th>\n      <th>IUCR</th>\n      <th>PRIMARY_TYPE</th>\n      <th>DESCRIPTION</th>\n      <th>LOCATION_DESCRIPTION</th>\n      <th>ARREST</th>\n      <th>DOMESTIC</th>\n      <th>...</th>\n      <th>WARD</th>\n      <th>COMMUNITY_AREA_NUMBER</th>\n      <th>FBICODE</th>\n      <th>X_COORDINATE</th>\n      <th>Y_COORDINATE</th>\n      <th>YEAR</th>\n      <th>UPDATEDON</th>\n      <th>LATITUDE</th>\n      <th>LONGITUDE</th>\n      <th>LOCATION</th>\n    </tr>\n  </thead>\n  <tbody>\n    <tr>\n      <th>0</th>\n      <td>3512276</td>\n      <td>HK587712</td>\n      <td>08/28/2004 05:50:56 PM</td>\n      <td>047XX S KEDZIE AVE</td>\n      <td>890</td>\n      <td>THEFT</td>\n      <td>FROM BUILDING</td>\n      <td>SMALL RETAIL STORE</td>\n      <td>False</td>\n      <td>False</td>\n      <td>...</td>\n      <td>14.0</td>\n      <td>58.0</td>\n      <td>6</td>\n      <td>1155838.0</td>\n      <td>1873050.0</td>\n      <td>2004</td>\n      <td>02/10/2018 03:50:01 PM</td>\n      <td>41.807441</td>\n      <td>-87.703956</td>\n      <td>(41.8074405, -87.703955849)</td>\n    </tr>\n    <tr>\n      <th>1</th>\n      <td>3406613</td>\n      <td>HK456306</td>\n      <td>06/26/2004 12:40:00 PM</td>\n      <td>009XX N CENTRAL PARK AVE</td>\n      <td>820</td>\n      <td>THEFT</td>\n      <td>$500 AND UNDER</td>\n      <td>OTHER</td>\n      <td>False</td>\n      <td>False</td>\n      <td>...</td>\n      <td>27.0</td>\n      <td>23.0</td>\n      <td>6</td>\n      <td>1152206.0</td>\n      <td>1906127.0</td>\n      <td>2004</td>\n      <td>02/28/2018 03:56:25 PM</td>\n      <td>41.898280</td>\n      <td>-87.716406</td>\n      <td>(41.898279962, -87.716405505)</td>\n    </tr>\n    <tr>\n      <th>2</th>\n      <td>8002131</td>\n      <td>HT233595</td>\n      <td>04/04/2011 05:45:00 AM</td>\n      <td>043XX S WABASH AVE</td>\n      <td>820</td>\n      <td>THEFT</td>\n      <td>$500 AND UNDER</td>\n      <td>NURSING HOME/RETIREMENT HOME</td>\n      <td>False</td>\n      <td>False</td>\n      <td>...</td>\n      <td>3.0</td>\n      <td>38.0</td>\n      <td>6</td>\n      <td>1177436.0</td>\n      <td>1876313.0</td>\n      <td>2011</td>\n      <td>02/10/2018 03:50:01 PM</td>\n      <td>41.815933</td>\n      <td>-87.624642</td>\n      <td>(41.815933131, -87.624642127)</td>\n    </tr>\n    <tr>\n      <th>3</th>\n      <td>7903289</td>\n      <td>HT133522</td>\n      <td>12/30/2010 04:30:00 PM</td>\n      <td>083XX S KINGSTON AVE</td>\n      <td>840</td>\n      <td>THEFT</td>\n      <td>FINANCIAL ID THEFT: OVER $300</td>\n      <td>RESIDENCE</td>\n      <td>False</td>\n      <td>False</td>\n      <td>...</td>\n      <td>7.0</td>\n      <td>46.0</td>\n      <td>6</td>\n      <td>1194622.0</td>\n      <td>1850125.0</td>\n      <td>2010</td>\n      <td>02/10/2018 03:50:01 PM</td>\n      <td>41.743665</td>\n      <td>-87.562463</td>\n      <td>(41.743665322, -87.562462756)</td>\n    </tr>\n    <tr>\n      <th>4</th>\n      <td>10402076</td>\n      <td>HZ138551</td>\n      <td>02/02/2016 07:30:00 PM</td>\n      <td>033XX W 66TH ST</td>\n      <td>820</td>\n      <td>THEFT</td>\n      <td>$500 AND UNDER</td>\n      <td>ALLEY</td>\n      <td>False</td>\n      <td>False</td>\n      <td>...</td>\n      <td>15.0</td>\n      <td>66.0</td>\n      <td>6</td>\n      <td>1155240.0</td>\n      <td>1860661.0</td>\n      <td>2016</td>\n      <td>02/10/2018 03:50:01 PM</td>\n      <td>41.773455</td>\n      <td>-87.706480</td>\n      <td>(41.773455295, -87.706480471)</td>\n    </tr>\n  </tbody>\n</table>\n<p>5 rows \u00d7 22 columns</p>\n</div>"
                    },
                    "metadata": {}
                }
            ]
        },
        {
            "metadata": {},
            "cell_type": "code",
            "source": "",
            "execution_count": null,
            "outputs": []
        }
    ],
    "metadata": {
        "kernelspec": {
            "name": "python3",
            "display_name": "Python 3.6",
            "language": "python"
        },
        "language_info": {
            "name": "python",
            "version": "3.6.9",
            "mimetype": "text/x-python",
            "codemirror_mode": {
                "name": "ipython",
                "version": 3
            },
            "pygments_lexer": "ipython3",
            "nbconvert_exporter": "python",
            "file_extension": ".py"
        }
    },
    "nbformat": 4,
    "nbformat_minor": 1
}